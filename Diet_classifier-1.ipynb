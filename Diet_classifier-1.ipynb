{
 "cells": [
  {
   "cell_type": "code",
   "execution_count": 5,
   "metadata": {
    "collapsed": true
   },
   "outputs": [],
   "source": [
    "import pandas as pd"
   ]
  },
  {
   "cell_type": "code",
   "execution_count": 6,
   "metadata": {},
   "outputs": [
    {
     "data": {
      "text/html": [
       "<div>\n",
       "<style scoped>\n",
       "    .dataframe tbody tr th:only-of-type {\n",
       "        vertical-align: middle;\n",
       "    }\n",
       "\n",
       "    .dataframe tbody tr th {\n",
       "        vertical-align: top;\n",
       "    }\n",
       "\n",
       "    .dataframe thead th {\n",
       "        text-align: right;\n",
       "    }\n",
       "</style>\n",
       "<table border=\"1\" class=\"dataframe\">\n",
       "  <thead>\n",
       "    <tr style=\"text-align: right;\">\n",
       "      <th></th>\n",
       "      <th>diet_current</th>\n",
       "      <th>diet_current_coded</th>\n",
       "    </tr>\n",
       "  </thead>\n",
       "  <tbody>\n",
       "    <tr>\n",
       "      <th>0</th>\n",
       "      <td>eat good and exercise</td>\n",
       "      <td>1</td>\n",
       "    </tr>\n",
       "    <tr>\n",
       "      <th>1</th>\n",
       "      <td>I eat about three times a day with some snacks...</td>\n",
       "      <td>2</td>\n",
       "    </tr>\n",
       "    <tr>\n",
       "      <th>2</th>\n",
       "      <td>toast and fruit for breakfast, salad for lunch...</td>\n",
       "      <td>1</td>\n",
       "    </tr>\n",
       "    <tr>\n",
       "      <th>3</th>\n",
       "      <td>College diet, cheap and easy foods most nights...</td>\n",
       "      <td>2</td>\n",
       "    </tr>\n",
       "    <tr>\n",
       "      <th>4</th>\n",
       "      <td>I try to eat healthy but often struggle becaus...</td>\n",
       "      <td>2</td>\n",
       "    </tr>\n",
       "  </tbody>\n",
       "</table>\n",
       "</div>"
      ],
      "text/plain": [
       "                                        diet_current  diet_current_coded\n",
       "0                              eat good and exercise                   1\n",
       "1  I eat about three times a day with some snacks...                   2\n",
       "2  toast and fruit for breakfast, salad for lunch...                   1\n",
       "3  College diet, cheap and easy foods most nights...                   2\n",
       "4  I try to eat healthy but often struggle becaus...                   2"
      ]
     },
     "execution_count": 6,
     "metadata": {},
     "output_type": "execute_result"
    }
   ],
   "source": [
    "diet = pd.read_csv(\"Diet_current.csv\")\n",
    "diet.head()"
   ]
  },
  {
   "cell_type": "code",
   "execution_count": 7,
   "metadata": {
    "collapsed": true
   },
   "outputs": [],
   "source": [
    "N=len(diet['diet_current'])\n",
    "Ntrain=int(N * 0.7) \n",
    "diet_current=diet['diet_current']\n",
    "coded=diet['diet_current_coded']\n",
    "from sklearn.utils import shuffle\n",
    "diet_current,coded=shuffle(diet_current,coded)"
   ]
  },
  {
   "cell_type": "code",
   "execution_count": 8,
   "metadata": {},
   "outputs": [
    {
     "data": {
      "text/plain": [
       "['1', '2']"
      ]
     },
     "execution_count": 8,
     "metadata": {},
     "output_type": "execute_result"
    }
   ],
   "source": [
    "coded_list=[]\n",
    "for i in list(set(coded)):\n",
    "    i=str(i)\n",
    "    coded_list.append(i)\n",
    "coded_list"
   ]
  },
  {
   "cell_type": "code",
   "execution_count": 9,
   "metadata": {
    "collapsed": true
   },
   "outputs": [],
   "source": [
    "Xtrain=diet_current[:Ntrain]\n",
    "Xtest=diet_current[Ntrain:]\n",
    "Ytrain=coded[:Ntrain]\n",
    "Ytest=coded[Ntrain:]"
   ]
  },
  {
   "cell_type": "code",
   "execution_count": 10,
   "metadata": {},
   "outputs": [
    {
     "data": {
      "text/plain": [
       "62     1\n",
       "87     2\n",
       "103    1\n",
       "121    2\n",
       "10     1\n",
       "112    1\n",
       "4      2\n",
       "119    2\n",
       "107    1\n",
       "55     2\n",
       "84     1\n",
       "43     2\n",
       "81     2\n",
       "3      2\n",
       "46     2\n",
       "54     1\n",
       "16     1\n",
       "75     1\n",
       "50     1\n",
       "86     1\n",
       "36     2\n",
       "59     1\n",
       "117    1\n",
       "90     1\n",
       "58     1\n",
       "24     1\n",
       "71     1\n",
       "95     2\n",
       "22     1\n",
       "120    2\n",
       "      ..\n",
       "111    1\n",
       "15     2\n",
       "49     2\n",
       "17     1\n",
       "99     2\n",
       "9      1\n",
       "68     1\n",
       "63     1\n",
       "124    1\n",
       "52     1\n",
       "118    2\n",
       "73     2\n",
       "21     2\n",
       "30     1\n",
       "115    2\n",
       "34     2\n",
       "23     1\n",
       "19     2\n",
       "79     2\n",
       "11     1\n",
       "56     1\n",
       "31     2\n",
       "20     2\n",
       "89     2\n",
       "92     2\n",
       "76     2\n",
       "94     1\n",
       "40     1\n",
       "8      1\n",
       "114    2\n",
       "Name: diet_current_coded, Length: 87, dtype: int64"
      ]
     },
     "execution_count": 10,
     "metadata": {},
     "output_type": "execute_result"
    }
   ],
   "source": [
    "Ytrain"
   ]
  },
  {
   "cell_type": "code",
   "execution_count": 11,
   "metadata": {
    "collapsed": true
   },
   "outputs": [],
   "source": [
    "from sklearn.feature_extraction.text import CountVectorizer\n",
    "from sklearn.feature_extraction.text import TfidfTransformer\n",
    "from sklearn.naive_bayes import MultinomialNB\n",
    "from sklearn.pipeline import Pipeline"
   ]
  },
  {
   "cell_type": "code",
   "execution_count": 12,
   "metadata": {
    "collapsed": true
   },
   "outputs": [],
   "source": [
    "text_clf = Pipeline([('vect', CountVectorizer()),\n",
    "                     ('tfidf', TfidfTransformer()),\n",
    "                     ('clf', MultinomialNB())])"
   ]
  },
  {
   "cell_type": "code",
   "execution_count": 13,
   "metadata": {
    "collapsed": true
   },
   "outputs": [],
   "source": [
    "text_clf = text_clf.fit(Xtrain, Ytrain)"
   ]
  },
  {
   "cell_type": "code",
   "execution_count": 14,
   "metadata": {},
   "outputs": [
    {
     "data": {
      "text/plain": [
       "array([2, 1, 2, 2, 1, 1, 1, 1, 2, 1, 2, 1, 1, 2, 2, 1, 1, 2, 2, 2, 1, 1, 2,\n",
       "       1, 1, 2, 2, 1, 2, 1, 1, 1, 2, 1, 1, 1, 2, 1], dtype=int64)"
      ]
     },
     "execution_count": 14,
     "metadata": {},
     "output_type": "execute_result"
    }
   ],
   "source": [
    "predicted = text_clf.predict(Xtest)\n",
    "predicted"
   ]
  },
  {
   "cell_type": "code",
   "execution_count": 16,
   "metadata": {},
   "outputs": [
    {
     "data": {
      "text/plain": [
       "array([2], dtype=int64)"
      ]
     },
     "execution_count": 16,
     "metadata": {},
     "output_type": "execute_result"
    }
   ],
   "source": [
    "text_clf.predict(['college diet, cheap and easy foods most nights. weekends traditionally, cook better homemade meals'])"
   ]
  },
  {
   "cell_type": "code",
   "execution_count": 17,
   "metadata": {},
   "outputs": [
    {
     "name": "stdout",
     "output_type": "stream",
     "text": [
      "('accuracy_score', 0.71052631578947367)\n"
     ]
    }
   ],
   "source": [
    "from sklearn import metrics\n",
    "\n",
    "print('accuracy_score',metrics.accuracy_score(Ytest,predicted))"
   ]
  },
  {
   "cell_type": "code",
   "execution_count": 18,
   "metadata": {},
   "outputs": [
    {
     "name": "stdout",
     "output_type": "stream",
     "text": [
      "             precision    recall  f1-score   support\n",
      "\n",
      "          1       0.68      0.79      0.73        19\n",
      "          2       0.75      0.63      0.69        19\n",
      "\n",
      "avg / total       0.72      0.71      0.71        38\n",
      "\n"
     ]
    }
   ],
   "source": [
    "print(metrics.classification_report(Ytest, predicted, target_names=coded_list))"
   ]
  }
 ],
 "metadata": {
  "kernelspec": {
   "display_name": "Python 3",
   "language": "python",
   "name": "python3"
  },
  "language_info": {
   "codemirror_mode": {
    "name": "ipython",
    "version": 3
   },
   "file_extension": ".py",
   "mimetype": "text/x-python",
   "name": "python",
   "nbconvert_exporter": "python",
   "pygments_lexer": "ipython3",
   "version": "3.6.1"
  }
 },
 "nbformat": 4,
 "nbformat_minor": 2
}
